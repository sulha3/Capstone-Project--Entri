{
 "cells": [
  {
   "cell_type": "markdown",
   "id": "6044cb1d-877c-40d6-b761-c8d0171a20ef",
   "metadata": {},
   "source": [
    "# Predicting Student Mental Health  Using Machine Learning\n",
    "*Author:* Sulha Shibin P \n",
    "*Organization:* Entri Elevate  \n",
    "*Date:* 01/07/2024"
   ]
  },
  {
   "cell_type": "markdown",
   "id": "ab858620-90a1-4c77-bec1-91d0bc0dd727",
   "metadata": {},
   "source": [
    "\n",
    "## Table of Contents\n",
    "1. [Overview of Problem Statement](#overview-of-problem-statement)\n",
    "2. [Objective](#objective)\n",
    "3. [Data Collection](#data-collection)\n",
    "4. [Data Description](#data-description)\n",
    "5. [Exploratory Data Analysis (EDA)](#exploratory-data-analysis-eda)\n",
    "6. [Data Preprocessing](#data-preprocessing)\n",
    "7. [Feature Engineering](#feature-engineering)\n",
    "8. [Data Encoding](#data-encoding)\n",
    "9. [Feature Selection](#feature-selection)\n",
    "10. [Splitting](#splitting)\n",
    "11. [Scaling](#scaling)\n",
    "12. [Model Selection](#Model-selection)\n",
    "14. [Train and Evaluation of Model](#evaluation-of-model)\n",
    "15. [Result](#result)\n",
    "16. [Model Deployment](#model-deployment)\n",
    "17. [Limitations](#limitations)\n",
    "18. [Conclusion](#conclusion)\n",
    "19. [Future Work](#future-work)\n",
    "\n",
    "   \n",
    "   "
   ]
  },
  {
   "cell_type": "markdown",
   "id": "cde607fa-d74b-4a80-bc33-74c23d17771c",
   "metadata": {},
   "source": [
    "\n",
    "## 1.Overview of the Problem Statement\n",
    " Predicting student mental health by analyzing various factors to identify students at risk for high stress, anxiety, or depression.”\\\n"
   ]
  },
  {
   "cell_type": "markdown",
   "id": "b845f023-7057-4a5d-8b50-27ada85a7ec3",
   "metadata": {},
   "source": [
    "## 2.Objective\n",
    " Develop a predictive model to identify students at risk of mental health issues. The target variable for the model is the *Overall Mental Health Score*, which is a composite score calculated using the Depression Score, Anxiety Score, and Stress Level. The model aims to analyze factors like sleep quality, diet quality, and other relevant variables to predict this Overall Mental Health Score with high accuracy."
   ]
  },
  {
   "cell_type": "markdown",
   "id": "3738d9e8-90f1-4055-b143-fb814f1df284",
   "metadata": {},
   "source": [
    "## 3.Data Collection"
   ]
  },
  {
   "cell_type": "code",
   "execution_count": 2,
   "id": "95ed08ac-32cb-41b1-8521-4c48d91890d4",
   "metadata": {},
   "outputs": [
    {
     "data": {
      "text/html": [
       "<div>\n",
       "<style scoped>\n",
       "    .dataframe tbody tr th:only-of-type {\n",
       "        vertical-align: middle;\n",
       "    }\n",
       "\n",
       "    .dataframe tbody tr th {\n",
       "        vertical-align: top;\n",
       "    }\n",
       "\n",
       "    .dataframe thead th {\n",
       "        text-align: right;\n",
       "    }\n",
       "</style>\n",
       "<table border=\"1\" class=\"dataframe\">\n",
       "  <thead>\n",
       "    <tr style=\"text-align: right;\">\n",
       "      <th></th>\n",
       "      <th>Age</th>\n",
       "      <th>Course</th>\n",
       "      <th>Gender</th>\n",
       "      <th>CGPA</th>\n",
       "      <th>Stress_Level</th>\n",
       "      <th>Depression_Score</th>\n",
       "      <th>Anxiety_Score</th>\n",
       "      <th>Sleep_Quality</th>\n",
       "      <th>Physical_Activity</th>\n",
       "      <th>Diet_Quality</th>\n",
       "      <th>Social_Support</th>\n",
       "      <th>Relationship_Status</th>\n",
       "      <th>Substance_Use</th>\n",
       "      <th>Counseling_Service_Use</th>\n",
       "      <th>Family_History</th>\n",
       "      <th>Chronic_Illness</th>\n",
       "      <th>Financial_Stress</th>\n",
       "      <th>Extracurricular_Involvement</th>\n",
       "      <th>Semester_Credit_Load</th>\n",
       "      <th>Residence_Type</th>\n",
       "    </tr>\n",
       "  </thead>\n",
       "  <tbody>\n",
       "    <tr>\n",
       "      <th>0</th>\n",
       "      <td>25</td>\n",
       "      <td>Others</td>\n",
       "      <td>Male</td>\n",
       "      <td>3.56</td>\n",
       "      <td>3</td>\n",
       "      <td>3</td>\n",
       "      <td>2</td>\n",
       "      <td>Good</td>\n",
       "      <td>Moderate</td>\n",
       "      <td>Good</td>\n",
       "      <td>Moderate</td>\n",
       "      <td>Married</td>\n",
       "      <td>Never</td>\n",
       "      <td>Never</td>\n",
       "      <td>No</td>\n",
       "      <td>No</td>\n",
       "      <td>2</td>\n",
       "      <td>Moderate</td>\n",
       "      <td>17</td>\n",
       "      <td>On-Campus</td>\n",
       "    </tr>\n",
       "    <tr>\n",
       "      <th>1</th>\n",
       "      <td>24</td>\n",
       "      <td>Engineering</td>\n",
       "      <td>Female</td>\n",
       "      <td>2.44</td>\n",
       "      <td>0</td>\n",
       "      <td>3</td>\n",
       "      <td>0</td>\n",
       "      <td>Average</td>\n",
       "      <td>Low</td>\n",
       "      <td>Average</td>\n",
       "      <td>Low</td>\n",
       "      <td>Single</td>\n",
       "      <td>Occasionally</td>\n",
       "      <td>Occasionally</td>\n",
       "      <td>No</td>\n",
       "      <td>No</td>\n",
       "      <td>3</td>\n",
       "      <td>Low</td>\n",
       "      <td>27</td>\n",
       "      <td>On-Campus</td>\n",
       "    </tr>\n",
       "    <tr>\n",
       "      <th>2</th>\n",
       "      <td>19</td>\n",
       "      <td>Business</td>\n",
       "      <td>Female</td>\n",
       "      <td>3.74</td>\n",
       "      <td>4</td>\n",
       "      <td>0</td>\n",
       "      <td>3</td>\n",
       "      <td>Good</td>\n",
       "      <td>Low</td>\n",
       "      <td>Average</td>\n",
       "      <td>Moderate</td>\n",
       "      <td>In a Relationship</td>\n",
       "      <td>Never</td>\n",
       "      <td>Occasionally</td>\n",
       "      <td>No</td>\n",
       "      <td>No</td>\n",
       "      <td>4</td>\n",
       "      <td>High</td>\n",
       "      <td>15</td>\n",
       "      <td>On-Campus</td>\n",
       "    </tr>\n",
       "    <tr>\n",
       "      <th>3</th>\n",
       "      <td>19</td>\n",
       "      <td>Computer Science</td>\n",
       "      <td>Male</td>\n",
       "      <td>3.65</td>\n",
       "      <td>2</td>\n",
       "      <td>1</td>\n",
       "      <td>0</td>\n",
       "      <td>Average</td>\n",
       "      <td>Low</td>\n",
       "      <td>Average</td>\n",
       "      <td>Moderate</td>\n",
       "      <td>Single</td>\n",
       "      <td>NaN</td>\n",
       "      <td>Never</td>\n",
       "      <td>No</td>\n",
       "      <td>No</td>\n",
       "      <td>4</td>\n",
       "      <td>Moderate</td>\n",
       "      <td>20</td>\n",
       "      <td>Off-Campus</td>\n",
       "    </tr>\n",
       "    <tr>\n",
       "      <th>4</th>\n",
       "      <td>18</td>\n",
       "      <td>Business</td>\n",
       "      <td>Male</td>\n",
       "      <td>3.40</td>\n",
       "      <td>3</td>\n",
       "      <td>3</td>\n",
       "      <td>4</td>\n",
       "      <td>Good</td>\n",
       "      <td>Low</td>\n",
       "      <td>Average</td>\n",
       "      <td>High</td>\n",
       "      <td>Married</td>\n",
       "      <td>Never</td>\n",
       "      <td>Never</td>\n",
       "      <td>No</td>\n",
       "      <td>Yes</td>\n",
       "      <td>0</td>\n",
       "      <td>High</td>\n",
       "      <td>23</td>\n",
       "      <td>On-Campus</td>\n",
       "    </tr>\n",
       "  </tbody>\n",
       "</table>\n",
       "</div>"
      ],
      "text/plain": [
       "   Age            Course  Gender  CGPA  Stress_Level  Depression_Score  \\\n",
       "0   25            Others    Male  3.56             3                 3   \n",
       "1   24       Engineering  Female  2.44             0                 3   \n",
       "2   19          Business  Female  3.74             4                 0   \n",
       "3   19  Computer Science    Male  3.65             2                 1   \n",
       "4   18          Business    Male  3.40             3                 3   \n",
       "\n",
       "   Anxiety_Score Sleep_Quality Physical_Activity Diet_Quality Social_Support  \\\n",
       "0              2          Good          Moderate         Good       Moderate   \n",
       "1              0       Average               Low      Average            Low   \n",
       "2              3          Good               Low      Average       Moderate   \n",
       "3              0       Average               Low      Average       Moderate   \n",
       "4              4          Good               Low      Average           High   \n",
       "\n",
       "  Relationship_Status Substance_Use Counseling_Service_Use Family_History  \\\n",
       "0             Married         Never                  Never             No   \n",
       "1              Single  Occasionally           Occasionally             No   \n",
       "2   In a Relationship         Never           Occasionally             No   \n",
       "3              Single           NaN                  Never             No   \n",
       "4             Married         Never                  Never             No   \n",
       "\n",
       "  Chronic_Illness  Financial_Stress Extracurricular_Involvement  \\\n",
       "0              No                 2                    Moderate   \n",
       "1              No                 3                         Low   \n",
       "2              No                 4                        High   \n",
       "3              No                 4                    Moderate   \n",
       "4             Yes                 0                        High   \n",
       "\n",
       "   Semester_Credit_Load Residence_Type  \n",
       "0                    17      On-Campus  \n",
       "1                    27      On-Campus  \n",
       "2                    15      On-Campus  \n",
       "3                    20     Off-Campus  \n",
       "4                    23      On-Campus  "
      ]
     },
     "execution_count": 2,
     "metadata": {},
     "output_type": "execute_result"
    }
   ],
   "source": [
    "# Import required libraries\n",
    "import pandas as pd                  \n",
    "import numpy as np                   \n",
    "import matplotlib.pyplot as plt      \n",
    "import seaborn as sns    \n",
    "\n",
    "#Load the dataset from a csv file\n",
    "data = pd.read_csv(\"students_mental_health_survey.csv\")\n",
    "data.head()"
   ]
  },
  {
   "cell_type": "markdown",
   "id": "2a1509b4-cafc-40e5-ab82-ac20a8b256ec",
   "metadata": {},
   "source": [
    "## 4.Data Description"
   ]
  },
  {
   "cell_type": "code",
   "execution_count": 3,
   "id": "64caf04c-a548-464c-a2e2-7425b33f7fae",
   "metadata": {},
   "outputs": [
    {
     "data": {
      "text/plain": [
       "(7022, 20)"
      ]
     },
     "execution_count": 3,
     "metadata": {},
     "output_type": "execute_result"
    }
   ],
   "source": [
    "# Display the shape of the dataset\n",
    "data.shape"
   ]
  },
  {
   "cell_type": "markdown",
   "id": "fe3d1023-c695-4102-9bbd-3550bcce56a6",
   "metadata": {},
   "source": [
    "\n",
    "\n",
    "##### Detailed Description of Features\n",
    "\n",
    "\n",
    "- *Age:*        The age of the student.\n",
    "- *Course:*     The course or program the student is enrolled in.\n",
    "- *Gender:*      The gender of the student.\n",
    "- *Stress Level:*   A numeric score representing the level of stress experienced by the student.\n",
    "- *Depression Score:* A numeric score representing the level of depression experienced by the student.\n",
    "- *Anxiety Level:* A numeric score representing the level of anxiety experienced by the student.\n",
    "- *Sleep Quality:* A categorical variable representing the quality of the student’s sleep (e.g., Poor, Average, Good).\n",
    "- *Diet Quality:* A categorical variable representing the quality of the student’s diet (e.g., Poor, Average, Good, ).\n",
    "- *Physical Activity:* A categorical variable representing the level of physical activity engaged in by the student (e.g., Low, Moderate, High).\n",
    "- *Social Support:* A categorical variable representing the level of social support the student receives (e.g., Low, Moderate, High).\n",
    "- *Relationship Status:* A categorical variable representing the current relationship status of the student (e.g., Single, In a Relationship).\n",
    "- *Substance Use:* A categorical variable representing the extent of substance use by the student (e.g., Never, Occasional, Frequently).\n",
    "- *Counseling Service Use:* A binary variable indicating whether the student has used counseling services (Yes/No).\n",
    "- *Family History:* A binary variable indicating if there is a family history of mental health issues (Yes/No).\n",
    "- *Chronic Illness:* A binary variable indicating if the student has a chronic illness (Yes/No).\n",
    "- *Financial Stress:* A numeric score representing the level of financial stress experienced by the student.\n",
    "- *Extracurricular Involvement:* A categorical variable representing the level of involvement in extracurricular activities \n",
    "- *Semester Credit Load:* The number of credits the student is enrolled in for the semester.\n",
    "- *Residence Type:* A categorical variable representing the type of accommodation the student is living in (e.g., On-campus, Off-campus).\n"
   ]
  },
  {
   "cell_type": "markdown",
   "id": "b1906d70-52e8-43d6-882c-eb327eb138a4",
   "metadata": {},
   "source": [
    "## 5.EDA"
   ]
  },
  {
   "cell_type": "code",
   "execution_count": 4,
   "id": "ca2dfa87-3276-4bd5-b26a-3e14c4ab5bd4",
   "metadata": {},
   "outputs": [
    {
     "name": "stdout",
     "output_type": "stream",
     "text": [
      "<class 'pandas.core.frame.DataFrame'>\n",
      "RangeIndex: 7022 entries, 0 to 7021\n",
      "Data columns (total 20 columns):\n",
      " #   Column                       Non-Null Count  Dtype  \n",
      "---  ------                       --------------  -----  \n",
      " 0   Age                          7022 non-null   int64  \n",
      " 1   Course                       7022 non-null   object \n",
      " 2   Gender                       7022 non-null   object \n",
      " 3   CGPA                         7010 non-null   float64\n",
      " 4   Stress_Level                 7022 non-null   int64  \n",
      " 5   Depression_Score             7022 non-null   int64  \n",
      " 6   Anxiety_Score                7022 non-null   int64  \n",
      " 7   Sleep_Quality                7022 non-null   object \n",
      " 8   Physical_Activity            7022 non-null   object \n",
      " 9   Diet_Quality                 7022 non-null   object \n",
      " 10  Social_Support               7022 non-null   object \n",
      " 11  Relationship_Status          7022 non-null   object \n",
      " 12  Substance_Use                7007 non-null   object \n",
      " 13  Counseling_Service_Use       7022 non-null   object \n",
      " 14  Family_History               7022 non-null   object \n",
      " 15  Chronic_Illness              7022 non-null   object \n",
      " 16  Financial_Stress             7022 non-null   int64  \n",
      " 17  Extracurricular_Involvement  7022 non-null   object \n",
      " 18  Semester_Credit_Load         7022 non-null   int64  \n",
      " 19  Residence_Type               7022 non-null   object \n",
      "dtypes: float64(1), int64(6), object(13)\n",
      "memory usage: 1.1+ MB\n"
     ]
    }
   ],
   "source": [
    "data.info()"
   ]
  },
  {
   "cell_type": "code",
   "execution_count": 5,
   "id": "58758f4e-dd69-4be7-9e83-8a670c63d785",
   "metadata": {},
   "outputs": [
    {
     "data": {
      "text/html": [
       "<div>\n",
       "<style scoped>\n",
       "    .dataframe tbody tr th:only-of-type {\n",
       "        vertical-align: middle;\n",
       "    }\n",
       "\n",
       "    .dataframe tbody tr th {\n",
       "        vertical-align: top;\n",
       "    }\n",
       "\n",
       "    .dataframe thead th {\n",
       "        text-align: right;\n",
       "    }\n",
       "</style>\n",
       "<table border=\"1\" class=\"dataframe\">\n",
       "  <thead>\n",
       "    <tr style=\"text-align: right;\">\n",
       "      <th></th>\n",
       "      <th>Age</th>\n",
       "      <th>CGPA</th>\n",
       "      <th>Stress_Level</th>\n",
       "      <th>Depression_Score</th>\n",
       "      <th>Anxiety_Score</th>\n",
       "      <th>Financial_Stress</th>\n",
       "      <th>Semester_Credit_Load</th>\n",
       "    </tr>\n",
       "  </thead>\n",
       "  <tbody>\n",
       "    <tr>\n",
       "      <th>count</th>\n",
       "      <td>7022.000000</td>\n",
       "      <td>7010.00000</td>\n",
       "      <td>7022.000000</td>\n",
       "      <td>7022.000000</td>\n",
       "      <td>7022.000000</td>\n",
       "      <td>7022.000000</td>\n",
       "      <td>7022.000000</td>\n",
       "    </tr>\n",
       "    <tr>\n",
       "      <th>mean</th>\n",
       "      <td>23.003418</td>\n",
       "      <td>3.49127</td>\n",
       "      <td>2.427941</td>\n",
       "      <td>2.254486</td>\n",
       "      <td>2.300484</td>\n",
       "      <td>2.453005</td>\n",
       "      <td>22.010538</td>\n",
       "    </tr>\n",
       "    <tr>\n",
       "      <th>std</th>\n",
       "      <td>3.853978</td>\n",
       "      <td>0.28742</td>\n",
       "      <td>1.638408</td>\n",
       "      <td>1.625193</td>\n",
       "      <td>1.624305</td>\n",
       "      <td>1.708995</td>\n",
       "      <td>4.358380</td>\n",
       "    </tr>\n",
       "    <tr>\n",
       "      <th>min</th>\n",
       "      <td>18.000000</td>\n",
       "      <td>2.44000</td>\n",
       "      <td>0.000000</td>\n",
       "      <td>0.000000</td>\n",
       "      <td>0.000000</td>\n",
       "      <td>0.000000</td>\n",
       "      <td>15.000000</td>\n",
       "    </tr>\n",
       "    <tr>\n",
       "      <th>25%</th>\n",
       "      <td>20.000000</td>\n",
       "      <td>3.29000</td>\n",
       "      <td>1.000000</td>\n",
       "      <td>1.000000</td>\n",
       "      <td>1.000000</td>\n",
       "      <td>1.000000</td>\n",
       "      <td>18.000000</td>\n",
       "    </tr>\n",
       "    <tr>\n",
       "      <th>50%</th>\n",
       "      <td>22.000000</td>\n",
       "      <td>3.50000</td>\n",
       "      <td>2.000000</td>\n",
       "      <td>2.000000</td>\n",
       "      <td>2.000000</td>\n",
       "      <td>2.000000</td>\n",
       "      <td>22.000000</td>\n",
       "    </tr>\n",
       "    <tr>\n",
       "      <th>75%</th>\n",
       "      <td>25.000000</td>\n",
       "      <td>3.70000</td>\n",
       "      <td>4.000000</td>\n",
       "      <td>3.000000</td>\n",
       "      <td>4.000000</td>\n",
       "      <td>4.000000</td>\n",
       "      <td>26.000000</td>\n",
       "    </tr>\n",
       "    <tr>\n",
       "      <th>max</th>\n",
       "      <td>35.000000</td>\n",
       "      <td>4.00000</td>\n",
       "      <td>5.000000</td>\n",
       "      <td>5.000000</td>\n",
       "      <td>5.000000</td>\n",
       "      <td>5.000000</td>\n",
       "      <td>29.000000</td>\n",
       "    </tr>\n",
       "  </tbody>\n",
       "</table>\n",
       "</div>"
      ],
      "text/plain": [
       "               Age        CGPA  Stress_Level  Depression_Score  Anxiety_Score  \\\n",
       "count  7022.000000  7010.00000   7022.000000       7022.000000    7022.000000   \n",
       "mean     23.003418     3.49127      2.427941          2.254486       2.300484   \n",
       "std       3.853978     0.28742      1.638408          1.625193       1.624305   \n",
       "min      18.000000     2.44000      0.000000          0.000000       0.000000   \n",
       "25%      20.000000     3.29000      1.000000          1.000000       1.000000   \n",
       "50%      22.000000     3.50000      2.000000          2.000000       2.000000   \n",
       "75%      25.000000     3.70000      4.000000          3.000000       4.000000   \n",
       "max      35.000000     4.00000      5.000000          5.000000       5.000000   \n",
       "\n",
       "       Financial_Stress  Semester_Credit_Load  \n",
       "count       7022.000000           7022.000000  \n",
       "mean           2.453005             22.010538  \n",
       "std            1.708995              4.358380  \n",
       "min            0.000000             15.000000  \n",
       "25%            1.000000             18.000000  \n",
       "50%            2.000000             22.000000  \n",
       "75%            4.000000             26.000000  \n",
       "max            5.000000             29.000000  "
      ]
     },
     "execution_count": 5,
     "metadata": {},
     "output_type": "execute_result"
    }
   ],
   "source": [
    "data.describe()"
   ]
  },
  {
   "cell_type": "code",
   "execution_count": 6,
   "id": "092a4fb9-a3a0-4630-a979-2316e16775e5",
   "metadata": {},
   "outputs": [
    {
     "data": {
      "text/plain": [
       "Age                             0\n",
       "Course                          0\n",
       "Gender                          0\n",
       "CGPA                           12\n",
       "Stress_Level                    0\n",
       "Depression_Score                0\n",
       "Anxiety_Score                   0\n",
       "Sleep_Quality                   0\n",
       "Physical_Activity               0\n",
       "Diet_Quality                    0\n",
       "Social_Support                  0\n",
       "Relationship_Status             0\n",
       "Substance_Use                  15\n",
       "Counseling_Service_Use          0\n",
       "Family_History                  0\n",
       "Chronic_Illness                 0\n",
       "Financial_Stress                0\n",
       "Extracurricular_Involvement     0\n",
       "Semester_Credit_Load            0\n",
       "Residence_Type                  0\n",
       "dtype: int64"
      ]
     },
     "execution_count": 6,
     "metadata": {},
     "output_type": "execute_result"
    }
   ],
   "source": [
    "data.isnull().sum()  #missing values"
   ]
  },
  {
   "cell_type": "code",
   "execution_count": 7,
   "id": "ba41b2ad-0bc4-4bd1-a2cc-c89f5d01967d",
   "metadata": {},
   "outputs": [
    {
     "data": {
      "text/plain": [
       "Age                              int64\n",
       "Course                          object\n",
       "Gender                          object\n",
       "CGPA                           float64\n",
       "Stress_Level                     int64\n",
       "Depression_Score                 int64\n",
       "Anxiety_Score                    int64\n",
       "Sleep_Quality                   object\n",
       "Physical_Activity               object\n",
       "Diet_Quality                    object\n",
       "Social_Support                  object\n",
       "Relationship_Status             object\n",
       "Substance_Use                   object\n",
       "Counseling_Service_Use          object\n",
       "Family_History                  object\n",
       "Chronic_Illness                 object\n",
       "Financial_Stress                 int64\n",
       "Extracurricular_Involvement     object\n",
       "Semester_Credit_Load             int64\n",
       "Residence_Type                  object\n",
       "dtype: object"
      ]
     },
     "execution_count": 7,
     "metadata": {},
     "output_type": "execute_result"
    }
   ],
   "source": [
    "data.dtypes  #Checking Data Types"
   ]
  },
  {
   "cell_type": "code",
   "execution_count": 8,
   "id": "c9683283-26e1-4362-9397-b345af13a325",
   "metadata": {},
   "outputs": [
    {
     "data": {
      "text/plain": [
       "False"
      ]
     },
     "execution_count": 8,
     "metadata": {},
     "output_type": "execute_result"
    }
   ],
   "source": [
    "data.duplicated().any()  # Checking Duplicate Values"
   ]
  },
  {
   "cell_type": "code",
   "execution_count": 9,
   "id": "54d7395a-1fef-433b-beed-3ab1bc20e787",
   "metadata": {},
   "outputs": [
    {
     "data": {
      "image/png": "[encoded data removed]",
      "text/plain": [
       "<Figure size 1000x800 with 2 Axes>"
      ]
     },
     "metadata": {},
     "output_type": "display_data"
    }
   ],
   "source": [
    "#Checking Correlation\n",
    "features_of_interest = data[['Age', 'Stress_Level', 'Depression_Score', 'Anxiety_Score', 'Financial_Stress', 'Semester_Credit_Load']]\n",
    "corr_matrix = features_of_interest.corr()\n",
    "import matplotlib.pyplot as plt\n",
    "import seaborn as sns\n",
    "\n",
    "plt.figure(figsize=(10, 8))\n",
    "sns.heatmap(corr_matrix, annot=True, cmap='coolwarm', vmin=-1, vmax=1)\n",
    "plt.title('Correlation Heatmap of Selected Features')\n",
    "plt.show()\n"
   ]
  },
  {
   "cell_type": "code",
   "execution_count": 10,
   "id": "be890801-8ad4-47f2-87bc-9918f8f52822",
   "metadata": {},
   "outputs": [
    {
     "data": {
      "image/png": "[encoded data removed]",
      "text/plain": [
       "<Figure size 1200x800 with 1 Axes>"
      ]
     },
     "metadata": {},
     "output_type": "display_data"
    }
   ],
   "source": [
    "#Checking Outliers & Skewness\n",
    "plt.figure(figsize=(12, 8))\n",
    "sns.boxplot(data=data[[ 'Depression_Score', 'Stress_Level', 'Anxiety_Score']])\n",
    "plt.xticks(rotation=45)\n",
    "plt.title('Box Plot of Depression Score, Stress Level, and Anxiety Score')\n",
    "plt.show()\n"
   ]
  },
  {
   "cell_type": "code",
   "execution_count": 11,
   "id": "970df1db-d960-47b6-b0b3-4927fd540db4",
   "metadata": {},
   "outputs": [
    {
     "data": {
      "image/png": "[encoded data removed]",
      "text/plain": [
       "<Figure size 800x400 with 1 Axes>"
      ]
     },
     "metadata": {},
     "output_type": "display_data"
    }
   ],
   "source": [
    "plt.figure(figsize=(8, 4))\n",
    "sns.boxplot(data=data[[ 'CGPA']])\n",
    "plt.xticks(rotation=45)\n",
    "plt.title('Box Plot of CGPA')\n",
    "plt.show()\n"
   ]
  },
  {
   "cell_type": "raw",
   "id": "ecf4e629-7239-43ab-900c-a0f20082d758",
   "metadata": {},
   "source": [
    "\n",
    "Interpreting the Box Plot\n",
    "\n",
    "Outliers: No, there are no visible outliers in this box plot.\n",
    "Distribution:\n",
    "\n",
    "Depression Score: The distribution is slightly skewed to the right, indicating that most people scored lower on depression.\n",
    "Stress Level: The distribution is fairly symmetrical, suggesting that stress levels are evenly distributed among the participants.\n",
    "Anxiety Score: The distribution is also slightly skewed to the right, similar to depression scores."
   ]
  },
  {
   "cell_type": "markdown",
   "id": "eff4732c-50e1-4231-9bdb-0808a8bf2144",
   "metadata": {},
   "source": [
    "#### Outlier Detection Using Z SCORE"
   ]
  },
  {
   "cell_type": "code",
   "execution_count": 12,
   "id": "f846e2b5-d889-45ea-a041-058689a56a5f",
   "metadata": {},
   "outputs": [
    {
     "name": "stdout",
     "output_type": "stream",
     "text": [
      "Outliers in Age using Z-Score:\n",
      "       Age\n",
      "26     35\n",
      "47     35\n",
      "266    35\n",
      "420    35\n",
      "451    35\n",
      "563    35\n",
      "658    35\n",
      "798    35\n",
      "851    35\n",
      "965    35\n",
      "989    35\n",
      "1160   35\n",
      "1531   35\n",
      "1707   35\n",
      "2001   35\n",
      "2063   35\n",
      "2113   35\n",
      "2184   35\n",
      "3059   35\n",
      "3068   35\n",
      "3085   35\n",
      "3090   35\n",
      "3629   35\n",
      "4002   35\n",
      "4544   35\n",
      "4620   35\n",
      "4628   35\n",
      "5481   35\n",
      "5710   35\n",
      "5732   35\n",
      "6296   35\n",
      "Outliers in Stress_Level using Z-Score:\n",
      " Empty DataFrame\n",
      "Columns: [Stress_Level]\n",
      "Index: []\n",
      "Outliers in Depression_Score using Z-Score:\n",
      " Empty DataFrame\n",
      "Columns: [Depression_Score]\n",
      "Index: []\n",
      "Outliers in Anxiety_Score using Z-Score:\n",
      " Empty DataFrame\n",
      "Columns: [Anxiety_Score]\n",
      "Index: []\n",
      "Outliers in Financial_Stress using Z-Score:\n",
      " Empty DataFrame\n",
      "Columns: [Financial_Stress]\n",
      "Index: []\n",
      "Outliers in Semester_Credit_Load using Z-Score:\n",
      " Empty DataFrame\n",
      "Columns: [Semester_Credit_Load]\n",
      "Index: []\n"
     ]
    }
   ],
   "source": [
    "import numpy as np\n",
    "import pandas as pd\n",
    "\n",
    "# Assuming `data` is your DataFrame\n",
    "# Numerical features\n",
    "numerical_features = ['Age', 'Stress_Level', 'Depression_Score', 'Anxiety_Score', 'Financial_Stress', 'Semester_Credit_Load']\n",
    "\n",
    "# Z-Score method\n",
    "for feature in numerical_features:\n",
    "    z_scores = np.abs((data[feature] - data[feature].mean()) / data[feature].std())\n",
    "    outliers = data[z_scores > 3]\n",
    "    \n",
    "    # Display only the feature and its outlier values\n",
    "    outliers_only = outliers[[feature]]\n",
    "    print(f'Outliers in {feature} using Z-Score:\\n', outliers_only)\n"
   ]
  },
  {
   "cell_type": "markdown",
   "id": "3567ae02-2659-41b6-b746-abf22c24ed4d",
   "metadata": {},
   "source": [
    "#### Outlier Detection Using IQR "
   ]
  },
  {
   "cell_type": "code",
   "execution_count": 13,
   "id": "64ec6f8e-d022-4caf-bc0b-6cc53dd57846",
   "metadata": {},
   "outputs": [
    {
     "name": "stdout",
     "output_type": "stream",
     "text": [
      "Outliers in Age using IQR:\n",
      "       Age\n",
      "26     35\n",
      "47     35\n",
      "266    35\n",
      "353    34\n",
      "406    33\n",
      "...   ...\n",
      "6900   33\n",
      "6943   33\n",
      "6968   33\n",
      "6978   33\n",
      "7004   33\n",
      "\n",
      "[131 rows x 1 columns]\n",
      "Outliers in Stress_Level using IQR:\n",
      " Empty DataFrame\n",
      "Columns: [Stress_Level]\n",
      "Index: []\n",
      "Outliers in Depression_Score using IQR:\n",
      " Empty DataFrame\n",
      "Columns: [Depression_Score]\n",
      "Index: []\n",
      "Outliers in Anxiety_Score using IQR:\n",
      " Empty DataFrame\n",
      "Columns: [Anxiety_Score]\n",
      "Index: []\n",
      "Outliers in Financial_Stress using IQR:\n",
      " Empty DataFrame\n",
      "Columns: [Financial_Stress]\n",
      "Index: []\n",
      "Outliers in Semester_Credit_Load using IQR:\n",
      " Empty DataFrame\n",
      "Columns: [Semester_Credit_Load]\n",
      "Index: []\n"
     ]
    }
   ],
   "source": [
    "\n",
    "# IQR method\n",
    "for feature in numerical_features:\n",
    "    Q1 = data[feature].quantile(0.25)\n",
    "    Q3 = data[feature].quantile(0.75)\n",
    "    IQR = Q3 - Q1\n",
    "    \n",
    "    outliers_iqr = data[(data[feature] < (Q1 - 1.5 * IQR)) | (data[feature] > (Q3 + 1.5 * IQR))]\n",
    "    \n",
    "    # Display only the feature and its outlier values\n",
    "    outliers_only = outliers_iqr[[feature]]\n",
    "    print(f'Outliers in {feature} using IQR:\\n', outliers_only)\n"
   ]
  },
  {
   "cell_type": "markdown",
   "id": "7c3821c7-bd11-4ae1-9c56-94e4cef28012",
   "metadata": {},
   "source": [
    "#### Outlier Detection For Categorical Variables"
   ]
  },
  {
   "cell_type": "code",
   "execution_count": 14,
   "id": "577dd89f-e6f0-43e4-94c5-ad5d15110559",
   "metadata": {},
   "outputs": [
    {
     "name": "stdout",
     "output_type": "stream",
     "text": [
      "Value counts for Course:\n",
      " Course\n",
      "Medical             2105\n",
      "Law                 1385\n",
      "Engineering         1072\n",
      "Computer Science    1028\n",
      "Business             717\n",
      "Others               715\n",
      "Name: count, dtype: int64\n",
      "Value counts for Gender:\n",
      " Gender\n",
      "Male      3547\n",
      "Female    3475\n",
      "Name: count, dtype: int64\n",
      "Value counts for Sleep_Quality:\n",
      " Sleep_Quality\n",
      "Good       3589\n",
      "Average    2735\n",
      "Poor        698\n",
      "Name: count, dtype: int64\n",
      "Value counts for Diet_Quality:\n",
      " Diet_Quality\n",
      "Average    4268\n",
      "Good       1385\n",
      "Poor       1369\n",
      "Name: count, dtype: int64\n",
      "Value counts for Physical_Activity:\n",
      " Physical_Activity\n",
      "Moderate    3521\n",
      "Low         2091\n",
      "High        1410\n",
      "Name: count, dtype: int64\n",
      "Value counts for Social_Support:\n",
      " Social_Support\n",
      "Moderate    3470\n",
      "High        2176\n",
      "Low         1376\n",
      "Name: count, dtype: int64\n",
      "Value counts for Relationship_Status:\n",
      " Relationship_Status\n",
      "Single               3574\n",
      "In a Relationship    2079\n",
      "Married              1369\n",
      "Name: count, dtype: int64\n",
      "Value counts for Substance_Use:\n",
      " Substance_Use\n",
      "Never           5903\n",
      "Occasionally     699\n",
      "Frequently       405\n",
      "Name: count, dtype: int64\n",
      "Value counts for Counseling_Service_Use:\n",
      " Counseling_Service_Use\n",
      "Never           4263\n",
      "Occasionally    2081\n",
      "Frequently       678\n",
      "Name: count, dtype: int64\n",
      "Value counts for Family_History:\n",
      " Family_History\n",
      "No     4866\n",
      "Yes    2156\n",
      "Name: count, dtype: int64\n",
      "Value counts for Chronic_Illness:\n",
      " Chronic_Illness\n",
      "No     6678\n",
      "Yes     344\n",
      "Name: count, dtype: int64\n",
      "Value counts for Extracurricular_Involvement:\n",
      " Extracurricular_Involvement\n",
      "Moderate    3440\n",
      "Low         2164\n",
      "High        1418\n",
      "Name: count, dtype: int64\n",
      "Value counts for Residence_Type:\n",
      " Residence_Type\n",
      "On-Campus      2815\n",
      "Off-Campus     2788\n",
      "With Family    1419\n",
      "Name: count, dtype: int64\n"
     ]
    }
   ],
   "source": [
    "categorical_features = ['Course', 'Gender', 'Sleep_Quality', 'Diet_Quality', 'Physical_Activity', \n",
    "                        'Social_Support', 'Relationship_Status', 'Substance_Use', \n",
    "                        'Counseling_Service_Use', 'Family_History', 'Chronic_Illness', \n",
    "                        'Extracurricular_Involvement', 'Residence_Type']\n",
    "\n",
    "# Check value counts for each categorical feature\n",
    "for feature in categorical_features:\n",
    "    value_counts = data[feature].value_counts()\n",
    "    print(f'Value counts for {feature}:\\n', value_counts)\n",
    "    # You can identify any categories with very low counts\n"
   ]
  },
  {
   "cell_type": "markdown",
   "id": "7605e554-35a2-427c-b06e-49ef00e0f828",
   "metadata": {},
   "source": [
    "## 6.Data Preprocessing"
   ]
  },
  {
   "cell_type": "markdown",
   "id": "04bce2a6-df80-43aa-98c3-95192b10ff58",
   "metadata": {},
   "source": [
    "#### Handling Missing Values"
   ]
  },
  {
   "cell_type": "code",
   "execution_count": 15,
   "id": "0efaf98d-89b5-40af-be37-9d3cfdcdc107",
   "metadata": {},
   "outputs": [],
   "source": [
    "\n",
    "data.dropna(subset=['Substance_Use'], inplace=True)\n",
    "data['CGPA'].fillna(data['CGPA'].mean(), inplace=True)"
   ]
  },
  {
   "cell_type": "markdown",
   "id": "84dc2730-a068-4189-aaf0-5ee42d4beda8",
   "metadata": {},
   "source": [
    "## 7.Feature Engineering"
   ]
  },
  {
   "cell_type": "code",
   "execution_count": 16,
   "id": "6dddc15b-52bb-40f7-86c9-f4842b35e743",
   "metadata": {},
   "outputs": [],
   "source": [
    "# Create the target variable\n",
    "data['Overall_Mental_Health_Score'] = data[['Stress_Level', 'Depression_Score', 'Anxiety_Score']].mean(axis=1)\n"
   ]
  },
  {
   "cell_type": "code",
   "execution_count": 17,
   "id": "9de7eed0-3e97-46d0-a18c-7507a384acbb",
   "metadata": {},
   "outputs": [
    {
     "data": {
      "text/html": [
       "<div>\n",
       "<style scoped>\n",
       "    .dataframe tbody tr th:only-of-type {\n",
       "        vertical-align: middle;\n",
       "    }\n",
       "\n",
       "    .dataframe tbody tr th {\n",
       "        vertical-align: top;\n",
       "    }\n",
       "\n",
       "    .dataframe thead th {\n",
       "        text-align: right;\n",
       "    }\n",
       "</style>\n",
       "<table border=\"1\" class=\"dataframe\">\n",
       "  <thead>\n",
       "    <tr style=\"text-align: right;\">\n",
       "      <th></th>\n",
       "      <th>Age</th>\n",
       "      <th>Course</th>\n",
       "      <th>Gender</th>\n",
       "      <th>CGPA</th>\n",
       "      <th>Stress_Level</th>\n",
       "      <th>Depression_Score</th>\n",
       "      <th>Anxiety_Score</th>\n",
       "      <th>Sleep_Quality</th>\n",
       "      <th>Physical_Activity</th>\n",
       "      <th>Diet_Quality</th>\n",
       "      <th>...</th>\n",
       "      <th>Substance_Use</th>\n",
       "      <th>Counseling_Service_Use</th>\n",
       "      <th>Family_History</th>\n",
       "      <th>Chronic_Illness</th>\n",
       "      <th>Financial_Stress</th>\n",
       "      <th>Extracurricular_Involvement</th>\n",
       "      <th>Semester_Credit_Load</th>\n",
       "      <th>Residence_Type</th>\n",
       "      <th>Overall_Mental_Health_Score</th>\n",
       "      <th>High_Risk_Indicator</th>\n",
       "    </tr>\n",
       "  </thead>\n",
       "  <tbody>\n",
       "    <tr>\n",
       "      <th>0</th>\n",
       "      <td>25</td>\n",
       "      <td>Others</td>\n",
       "      <td>Male</td>\n",
       "      <td>3.56</td>\n",
       "      <td>3</td>\n",
       "      <td>3</td>\n",
       "      <td>2</td>\n",
       "      <td>Good</td>\n",
       "      <td>Moderate</td>\n",
       "      <td>Good</td>\n",
       "      <td>...</td>\n",
       "      <td>Never</td>\n",
       "      <td>Never</td>\n",
       "      <td>No</td>\n",
       "      <td>No</td>\n",
       "      <td>2</td>\n",
       "      <td>Moderate</td>\n",
       "      <td>17</td>\n",
       "      <td>On-Campus</td>\n",
       "      <td>2.666667</td>\n",
       "      <td>1</td>\n",
       "    </tr>\n",
       "    <tr>\n",
       "      <th>1</th>\n",
       "      <td>24</td>\n",
       "      <td>Engineering</td>\n",
       "      <td>Female</td>\n",
       "      <td>2.44</td>\n",
       "      <td>0</td>\n",
       "      <td>3</td>\n",
       "      <td>0</td>\n",
       "      <td>Average</td>\n",
       "      <td>Low</td>\n",
       "      <td>Average</td>\n",
       "      <td>...</td>\n",
       "      <td>Occasionally</td>\n",
       "      <td>Occasionally</td>\n",
       "      <td>No</td>\n",
       "      <td>No</td>\n",
       "      <td>3</td>\n",
       "      <td>Low</td>\n",
       "      <td>27</td>\n",
       "      <td>On-Campus</td>\n",
       "      <td>1.000000</td>\n",
       "      <td>0</td>\n",
       "    </tr>\n",
       "    <tr>\n",
       "      <th>2</th>\n",
       "      <td>19</td>\n",
       "      <td>Business</td>\n",
       "      <td>Female</td>\n",
       "      <td>3.74</td>\n",
       "      <td>4</td>\n",
       "      <td>0</td>\n",
       "      <td>3</td>\n",
       "      <td>Good</td>\n",
       "      <td>Low</td>\n",
       "      <td>Average</td>\n",
       "      <td>...</td>\n",
       "      <td>Never</td>\n",
       "      <td>Occasionally</td>\n",
       "      <td>No</td>\n",
       "      <td>No</td>\n",
       "      <td>4</td>\n",
       "      <td>High</td>\n",
       "      <td>15</td>\n",
       "      <td>On-Campus</td>\n",
       "      <td>2.333333</td>\n",
       "      <td>1</td>\n",
       "    </tr>\n",
       "    <tr>\n",
       "      <th>4</th>\n",
       "      <td>18</td>\n",
       "      <td>Business</td>\n",
       "      <td>Male</td>\n",
       "      <td>3.40</td>\n",
       "      <td>3</td>\n",
       "      <td>3</td>\n",
       "      <td>4</td>\n",
       "      <td>Good</td>\n",
       "      <td>Low</td>\n",
       "      <td>Average</td>\n",
       "      <td>...</td>\n",
       "      <td>Never</td>\n",
       "      <td>Never</td>\n",
       "      <td>No</td>\n",
       "      <td>Yes</td>\n",
       "      <td>0</td>\n",
       "      <td>High</td>\n",
       "      <td>23</td>\n",
       "      <td>On-Campus</td>\n",
       "      <td>3.333333</td>\n",
       "      <td>1</td>\n",
       "    </tr>\n",
       "    <tr>\n",
       "      <th>5</th>\n",
       "      <td>21</td>\n",
       "      <td>Medical</td>\n",
       "      <td>Female</td>\n",
       "      <td>3.35</td>\n",
       "      <td>2</td>\n",
       "      <td>4</td>\n",
       "      <td>3</td>\n",
       "      <td>Good</td>\n",
       "      <td>Moderate</td>\n",
       "      <td>Good</td>\n",
       "      <td>...</td>\n",
       "      <td>Never</td>\n",
       "      <td>Never</td>\n",
       "      <td>No</td>\n",
       "      <td>No</td>\n",
       "      <td>5</td>\n",
       "      <td>Moderate</td>\n",
       "      <td>19</td>\n",
       "      <td>Off-Campus</td>\n",
       "      <td>3.000000</td>\n",
       "      <td>1</td>\n",
       "    </tr>\n",
       "  </tbody>\n",
       "</table>\n",
       "<p>5 rows × 22 columns</p>\n",
       "</div>"
      ],
      "text/plain": [
       "   Age       Course  Gender  CGPA  Stress_Level  Depression_Score  \\\n",
       "0   25       Others    Male  3.56             3                 3   \n",
       "1   24  Engineering  Female  2.44             0                 3   \n",
       "2   19     Business  Female  3.74             4                 0   \n",
       "4   18     Business    Male  3.40             3                 3   \n",
       "5   21      Medical  Female  3.35             2                 4   \n",
       "\n",
       "   Anxiety_Score Sleep_Quality Physical_Activity Diet_Quality  ...  \\\n",
       "0              2          Good          Moderate         Good  ...   \n",
       "1              0       Average               Low      Average  ...   \n",
       "2              3          Good               Low      Average  ...   \n",
       "4              4          Good               Low      Average  ...   \n",
       "5              3          Good          Moderate         Good  ...   \n",
       "\n",
       "  Substance_Use Counseling_Service_Use Family_History Chronic_Illness  \\\n",
       "0         Never                  Never             No              No   \n",
       "1  Occasionally           Occasionally             No              No   \n",
       "2         Never           Occasionally             No              No   \n",
       "4         Never                  Never             No             Yes   \n",
       "5         Never                  Never             No              No   \n",
       "\n",
       "  Financial_Stress Extracurricular_Involvement  Semester_Credit_Load  \\\n",
       "0                2                    Moderate                    17   \n",
       "1                3                         Low                    27   \n",
       "2                4                        High                    15   \n",
       "4                0                        High                    23   \n",
       "5                5                    Moderate                    19   \n",
       "\n",
       "  Residence_Type  Overall_Mental_Health_Score High_Risk_Indicator  \n",
       "0      On-Campus                     2.666667                   1  \n",
       "1      On-Campus                     1.000000                   0  \n",
       "2      On-Campus                     2.333333                   1  \n",
       "4      On-Campus                     3.333333                   1  \n",
       "5     Off-Campus                     3.000000                   1  \n",
       "\n",
       "[5 rows x 22 columns]"
      ]
     },
     "execution_count": 17,
     "metadata": {},
     "output_type": "execute_result"
    }
   ],
   "source": [
    "# Create additional features\n",
    "data['High_Risk_Indicator'] = (data['Overall_Mental_Health_Score'] > 1).astype(int)\n",
    "data.head()"
   ]
  },
  {
   "cell_type": "markdown",
   "id": "c370effc-e22b-42fc-85ee-70fdfb6eaa38",
   "metadata": {},
   "source": [
    "## 8.Data Encoding"
   ]
  },
  {
   "cell_type": "code",
   "execution_count": 18,
   "id": "e0691117-78bb-4ec8-90f5-fc4e9e30751f",
   "metadata": {},
   "outputs": [],
   "source": [
    "#label Encoding\n",
    "from sklearn.preprocessing import LabelEncoder\n",
    "label_encoder = LabelEncoder()\n",
    "data['Course'] = label_encoder.fit_transform(data['Course'])\n"
   ]
  },
  {
   "cell_type": "code",
   "execution_count": 19,
   "id": "dd77a0f1-676b-4fea-820c-618a41c27921",
   "metadata": {},
   "outputs": [],
   "source": [
    "# One-Hot Encoding\n",
    "data = pd.get_dummies(data, columns=['Gender', 'Relationship_Status', 'Chronic_Illness', 'Residence_Type'], dtype=int)\n"
   ]
  },
  {
   "cell_type": "code",
   "execution_count": 20,
   "id": "cab75402-1805-42a3-9b1f-70154eea3ce6",
   "metadata": {},
   "outputs": [
    {
     "data": {
      "text/html": [
       "<div>\n",
       "<style scoped>\n",
       "    .dataframe tbody tr th:only-of-type {\n",
       "        vertical-align: middle;\n",
       "    }\n",
       "\n",
       "    .dataframe tbody tr th {\n",
       "        vertical-align: top;\n",
       "    }\n",
       "\n",
       "    .dataframe thead th {\n",
       "        text-align: right;\n",
       "    }\n",
       "</style>\n",
       "<table border=\"1\" class=\"dataframe\">\n",
       "  <thead>\n",
       "    <tr style=\"text-align: right;\">\n",
       "      <th></th>\n",
       "      <th>Age</th>\n",
       "      <th>Course</th>\n",
       "      <th>CGPA</th>\n",
       "      <th>Stress_Level</th>\n",
       "      <th>Depression_Score</th>\n",
       "      <th>Anxiety_Score</th>\n",
       "      <th>Sleep_Quality</th>\n",
       "      <th>Physical_Activity</th>\n",
       "      <th>Diet_Quality</th>\n",
       "      <th>Social_Support</th>\n",
       "      <th>...</th>\n",
       "      <th>Gender_Female</th>\n",
       "      <th>Gender_Male</th>\n",
       "      <th>Relationship_Status_In a Relationship</th>\n",
       "      <th>Relationship_Status_Married</th>\n",
       "      <th>Relationship_Status_Single</th>\n",
       "      <th>Chronic_Illness_No</th>\n",
       "      <th>Chronic_Illness_Yes</th>\n",
       "      <th>Residence_Type_Off-Campus</th>\n",
       "      <th>Residence_Type_On-Campus</th>\n",
       "      <th>Residence_Type_With Family</th>\n",
       "    </tr>\n",
       "  </thead>\n",
       "  <tbody>\n",
       "    <tr>\n",
       "      <th>0</th>\n",
       "      <td>25</td>\n",
       "      <td>5</td>\n",
       "      <td>3.56</td>\n",
       "      <td>3</td>\n",
       "      <td>3</td>\n",
       "      <td>2</td>\n",
       "      <td>2.0</td>\n",
       "      <td>1.0</td>\n",
       "      <td>2.0</td>\n",
       "      <td>1.0</td>\n",
       "      <td>...</td>\n",
       "      <td>0</td>\n",
       "      <td>1</td>\n",
       "      <td>0</td>\n",
       "      <td>1</td>\n",
       "      <td>0</td>\n",
       "      <td>1</td>\n",
       "      <td>0</td>\n",
       "      <td>0</td>\n",
       "      <td>1</td>\n",
       "      <td>0</td>\n",
       "    </tr>\n",
       "    <tr>\n",
       "      <th>1</th>\n",
       "      <td>24</td>\n",
       "      <td>2</td>\n",
       "      <td>2.44</td>\n",
       "      <td>0</td>\n",
       "      <td>3</td>\n",
       "      <td>0</td>\n",
       "      <td>1.0</td>\n",
       "      <td>0.0</td>\n",
       "      <td>1.0</td>\n",
       "      <td>0.0</td>\n",
       "      <td>...</td>\n",
       "      <td>1</td>\n",
       "      <td>0</td>\n",
       "      <td>0</td>\n",
       "      <td>0</td>\n",
       "      <td>1</td>\n",
       "      <td>1</td>\n",
       "      <td>0</td>\n",
       "      <td>0</td>\n",
       "      <td>1</td>\n",
       "      <td>0</td>\n",
       "    </tr>\n",
       "    <tr>\n",
       "      <th>2</th>\n",
       "      <td>19</td>\n",
       "      <td>0</td>\n",
       "      <td>3.74</td>\n",
       "      <td>4</td>\n",
       "      <td>0</td>\n",
       "      <td>3</td>\n",
       "      <td>2.0</td>\n",
       "      <td>0.0</td>\n",
       "      <td>1.0</td>\n",
       "      <td>1.0</td>\n",
       "      <td>...</td>\n",
       "      <td>1</td>\n",
       "      <td>0</td>\n",
       "      <td>1</td>\n",
       "      <td>0</td>\n",
       "      <td>0</td>\n",
       "      <td>1</td>\n",
       "      <td>0</td>\n",
       "      <td>0</td>\n",
       "      <td>1</td>\n",
       "      <td>0</td>\n",
       "    </tr>\n",
       "    <tr>\n",
       "      <th>4</th>\n",
       "      <td>18</td>\n",
       "      <td>0</td>\n",
       "      <td>3.40</td>\n",
       "      <td>3</td>\n",
       "      <td>3</td>\n",
       "      <td>4</td>\n",
       "      <td>2.0</td>\n",
       "      <td>0.0</td>\n",
       "      <td>1.0</td>\n",
       "      <td>2.0</td>\n",
       "      <td>...</td>\n",
       "      <td>0</td>\n",
       "      <td>1</td>\n",
       "      <td>0</td>\n",
       "      <td>1</td>\n",
       "      <td>0</td>\n",
       "      <td>0</td>\n",
       "      <td>1</td>\n",
       "      <td>0</td>\n",
       "      <td>1</td>\n",
       "      <td>0</td>\n",
       "    </tr>\n",
       "    <tr>\n",
       "      <th>5</th>\n",
       "      <td>21</td>\n",
       "      <td>4</td>\n",
       "      <td>3.35</td>\n",
       "      <td>2</td>\n",
       "      <td>4</td>\n",
       "      <td>3</td>\n",
       "      <td>2.0</td>\n",
       "      <td>1.0</td>\n",
       "      <td>2.0</td>\n",
       "      <td>2.0</td>\n",
       "      <td>...</td>\n",
       "      <td>1</td>\n",
       "      <td>0</td>\n",
       "      <td>0</td>\n",
       "      <td>0</td>\n",
       "      <td>1</td>\n",
       "      <td>1</td>\n",
       "      <td>0</td>\n",
       "      <td>1</td>\n",
       "      <td>0</td>\n",
       "      <td>0</td>\n",
       "    </tr>\n",
       "  </tbody>\n",
       "</table>\n",
       "<p>5 rows × 28 columns</p>\n",
       "</div>"
      ],
      "text/plain": [
       "   Age  Course  CGPA  Stress_Level  Depression_Score  Anxiety_Score  \\\n",
       "0   25       5  3.56             3                 3              2   \n",
       "1   24       2  2.44             0                 3              0   \n",
       "2   19       0  3.74             4                 0              3   \n",
       "4   18       0  3.40             3                 3              4   \n",
       "5   21       4  3.35             2                 4              3   \n",
       "\n",
       "   Sleep_Quality  Physical_Activity  Diet_Quality  Social_Support  ...  \\\n",
       "0            2.0                1.0           2.0             1.0  ...   \n",
       "1            1.0                0.0           1.0             0.0  ...   \n",
       "2            2.0                0.0           1.0             1.0  ...   \n",
       "4            2.0                0.0           1.0             2.0  ...   \n",
       "5            2.0                1.0           2.0             2.0  ...   \n",
       "\n",
       "   Gender_Female  Gender_Male Relationship_Status_In a Relationship  \\\n",
       "0              0            1                                     0   \n",
       "1              1            0                                     0   \n",
       "2              1            0                                     1   \n",
       "4              0            1                                     0   \n",
       "5              1            0                                     0   \n",
       "\n",
       "   Relationship_Status_Married  Relationship_Status_Single  \\\n",
       "0                            1                           0   \n",
       "1                            0                           1   \n",
       "2                            0                           0   \n",
       "4                            1                           0   \n",
       "5                            0                           1   \n",
       "\n",
       "   Chronic_Illness_No  Chronic_Illness_Yes  Residence_Type_Off-Campus  \\\n",
       "0                   1                    0                          0   \n",
       "1                   1                    0                          0   \n",
       "2                   1                    0                          0   \n",
       "4                   0                    1                          0   \n",
       "5                   1                    0                          1   \n",
       "\n",
       "   Residence_Type_On-Campus  Residence_Type_With Family  \n",
       "0                         1                           0  \n",
       "1                         1                           0  \n",
       "2                         1                           0  \n",
       "4                         1                           0  \n",
       "5                         0                           0  \n",
       "\n",
       "[5 rows x 28 columns]"
      ]
     },
     "execution_count": 20,
     "metadata": {},
     "output_type": "execute_result"
    }
   ],
   "source": [
    "# Ordinal Encoding\n",
    "from sklearn.preprocessing import OrdinalEncoder  \n",
    "ordinal_features = ['Diet_Quality', 'Sleep_Quality', 'Substance_Use', 'Social_Support', 'Physical_Activity', 'Extracurricular_Involvement', 'Counseling_Service_Use']\n",
    "ordinal_categories = [['Poor', 'Average', 'Good'], ['Poor', 'Average', 'Good'], ['Never', 'Occasionally', 'Frequently'], ['Low', 'Moderate', 'High'], ['Low', 'Moderate', 'High'], ['Low', 'Moderate', 'High'], ['Never', 'Occasionally', 'Frequently']]\n",
    "ordinal_encoder = OrdinalEncoder(categories=ordinal_categories)\n",
    "data[ordinal_features] = ordinal_encoder.fit_transform(data[ordinal_features])\n",
    "data.head()\n"
   ]
  },
  {
   "cell_type": "markdown",
   "id": "61f5c619-aef9-4828-ba11-95c6dfc63291",
   "metadata": {},
   "source": [
    "## 9.Feature Selection"
   ]
  },
  {
   "cell_type": "code",
   "execution_count": 21,
   "id": "7e0cad86-1377-4980-b668-e32398a75c32",
   "metadata": {},
   "outputs": [],
   "source": [
    "# Define the target variable and features\n",
    "X = data.drop(columns=['Overall_Mental_Health_Score'])\n",
    "y = data['Overall_Mental_Health_Score']\n"
   ]
  },
  {
   "cell_type": "code",
   "execution_count": 22,
   "id": "d8191816-3103-49df-bff7-1f30df511cca",
   "metadata": {},
   "outputs": [],
   "source": [
    "# Ensure all features in X are numeric before correlation calculation\n",
    "X_numeric= X.select_dtypes(include=[np.number])\n"
   ]
  },
  {
   "cell_type": "code",
   "execution_count": 23,
   "id": "d0660442-7edf-45b3-82af-1cf951795b7c",
   "metadata": {},
   "outputs": [],
   "source": [
    "from sklearn.feature_selection import VarianceThreshold\n",
    "\n",
    "# Remove features with low variance\n",
    "selector = VarianceThreshold(threshold=0.01)  # Adjust threshold as needed\n",
    "X_high_variance = selector.fit_transform(X_numeric)\n"
   ]
  },
  {
   "cell_type": "code",
   "execution_count": 24,
   "id": "b53d3b13-2a0b-4b99-924a-b2168ec86912",
   "metadata": {},
   "outputs": [],
   "source": [
    "from sklearn.linear_model import LinearRegression\n",
    "from sklearn.feature_selection import RFE\n",
    "\n",
    "model = LinearRegression()\n",
    "rfe = RFE(model, n_features_to_select=5)  # Choose a smaller number\n",
    "fit = rfe.fit(X_numeric, y)\n",
    "selected_features_rfe = X_numeric.columns[fit.support_].tolist()\n"
   ]
  },
  {
   "cell_type": "code",
   "execution_count": 25,
   "id": "c994d35c-13f9-4d83-a980-ed82277b4b4c",
   "metadata": {},
   "outputs": [],
   "source": [
    "from sklearn.feature_selection import SelectKBest, f_regression\n",
    "\n",
    "# Select the top k features\n",
    "selector = SelectKBest(score_func=f_regression, k=5)  # Choose a smaller k\n",
    "X_new = selector.fit_transform(X_numeric, y)\n",
    "selected_features_kbest = X_numeric.columns[selector.get_support()].tolist()\n"
   ]
  },
  {
   "cell_type": "code",
   "execution_count": 26,
   "id": "d7c07ba8-c614-4313-9393-6c3b38d856ea",
   "metadata": {},
   "outputs": [],
   "source": [
    "from sklearn.ensemble import RandomForestRegressor\n",
    "\n",
    "rf = RandomForestRegressor()\n",
    "rf.fit(X_numeric, y)\n",
    "\n",
    "# Get feature importances\n",
    "importances = rf.feature_importances_\n",
    "feature_importance_df = pd.DataFrame({'Feature': X_numeric.columns, 'Importance': importances})\n",
    "top_features = feature_importance_df.nlargest(5, 'Importance')['Feature'].tolist()  # Adjust the number\n"
   ]
  },
  {
   "cell_type": "code",
   "execution_count": 27,
   "id": "e6b28c82-4070-4daa-b0ea-81ee324e4a06",
   "metadata": {},
   "outputs": [],
   "source": [
    "import numpy as np\n",
    "\n",
    "# Calculate correlation matrix\n",
    "correlation_matrix = X_numeric.corr()\n",
    "\n",
    "# Find features with high correlation\n",
    "correlated_features = set()\n",
    "for i in range(len(correlation_matrix.columns)):\n",
    "    for j in range(i):\n",
    "        if abs(correlation_matrix.iloc[i, j]) > 0.8:  # Adjust threshold\n",
    "            colname = correlation_matrix.columns[i]\n",
    "            correlated_features.add(colname)\n",
    "\n",
    "# Drop highly correlated features\n",
    "X_reduced = X_numeric.drop(columns=correlated_features, errors='ignore')\n"
   ]
  },
  {
   "cell_type": "code",
   "execution_count": 28,
   "id": "64cbdac4-ecd4-42d2-9511-2c376b19fe1b",
   "metadata": {},
   "outputs": [
    {
     "name": "stdout",
     "output_type": "stream",
     "text": [
      "Final Selected Features: ['Relationship_Status_Married', 'Depression_Score', 'High_Risk_Indicator', 'Anxiety_Score', 'CGPA', 'Stress_Level', 'Course']\n"
     ]
    }
   ],
   "source": [
    "# Combine selected features from various methods\n",
    "final_selected_features = list(set(selected_features_rfe) | set(selected_features_kbest) | set(top_features))\n",
    "print(\"Final Selected Features:\", final_selected_features)\n",
    "\n",
    "# Use the final selected features for modeling\n",
    "X = X[final_selected_features]\n"
   ]
  },
  {
   "cell_type": "markdown",
   "id": "ae103921-b527-4daa-8117-9d78e3614a80",
   "metadata": {},
   "source": [
    "## 10.Splitting"
   ]
  },
  {
   "cell_type": "code",
   "execution_count": 29,
   "id": "7856220b-70f2-495a-b81f-7799ab0eae47",
   "metadata": {},
   "outputs": [],
   "source": [
    "from sklearn.model_selection import train_test_split\n",
    "# Split the data into training and test sets\n",
    "X_train, X_test, y_train, y_test = train_test_split(X, y, test_size=0.3, random_state=42)\n"
   ]
  },
  {
   "cell_type": "markdown",
   "id": "4fc1cc0a-5b4f-4fb0-a763-a81e2bc31106",
   "metadata": {},
   "source": [
    "## 11.Scaling"
   ]
  },
  {
   "cell_type": "code",
   "execution_count": 30,
   "id": "90ca247f-d10c-4ca0-8947-1feb9937334c",
   "metadata": {},
   "outputs": [],
   "source": [
    "from sklearn.preprocessing import StandardScaler\n",
    "\n",
    "scaler = StandardScaler()\n",
    "X_train_scaled = scaler.fit_transform(X_train)\n",
    "X_test_scaled = scaler.transform(X_test)\n"
   ]
  },
  {
   "cell_type": "markdown",
   "id": "1d640cdc-4d09-49cf-a394-2928dd0c2171",
   "metadata": {},
   "source": [
    "## 12.Model Selection"
   ]
  },
  {
   "cell_type": "code",
   "execution_count": 31,
   "id": "ce581b7e-fbe5-4cd0-b720-bfbdb481b7a4",
   "metadata": {},
   "outputs": [],
   "source": [
    "from sklearn.linear_model import LinearRegression, Ridge, Lasso, ElasticNet\n",
    "from sklearn.tree import DecisionTreeRegressor\n",
    "from sklearn.ensemble import RandomForestRegressor, GradientBoostingRegressor\n",
    "from sklearn.metrics import mean_squared_error, r2_score\n",
    "from sklearn.model_selection import GridSearchCV\n"
   ]
  },
  {
   "cell_type": "markdown",
   "id": "ce73deb4-85e6-45f8-8e43-a6fae60ff70c",
   "metadata": {},
   "source": [
    "## 13.Train and Evaluate Models"
   ]
  },
  {
   "cell_type": "markdown",
   "id": "7cd4c63f-174b-4ca2-bb99-689666c4c877",
   "metadata": {},
   "source": [
    "#### Linear Regression (without regularization)"
   ]
  },
  {
   "cell_type": "code",
   "execution_count": 32,
   "id": "0eac84fc-9f98-450d-b632-d1d8fb4e446d",
   "metadata": {},
   "outputs": [
    {
     "name": "stdout",
     "output_type": "stream",
     "text": [
      "Linear Regression:\n",
      "Train MSE: 1.0146917431632614e-30, Test MSE: 1.0037767373109135e-30\n",
      "Train R²: 1.0, Test R²: 1.0\n",
      "\n"
     ]
    }
   ],
   "source": [
    "linear_model = LinearRegression()\n",
    "linear_model.fit(X_train_scaled, y_train)\n",
    "\n",
    "y_train_pred = linear_model.predict(X_train_scaled)\n",
    "y_test_pred = linear_model.predict(X_test_scaled)\n",
    "\n",
    "print(\"Linear Regression:\")\n",
    "print(f\"Train MSE: {mean_squared_error(y_train, y_train_pred)}, Test MSE: {mean_squared_error(y_test, y_test_pred)}\")\n",
    "print(f\"Train R²: {r2_score(y_train, y_train_pred)}, Test R²: {r2_score(y_test, y_test_pred)}\\n\")\n"
   ]
  },
  {
   "cell_type": "code",
   "execution_count": 33,
   "id": "67a4ede5-1d4f-41a8-9cab-24809654c412",
   "metadata": {},
   "outputs": [
    {
     "data": {
      "image/png": "[encoded data removed]",
      "text/plain": [
       "<Figure size 1000x600 with 1 Axes>"
      ]
     },
     "metadata": {},
     "output_type": "display_data"
    }
   ],
   "source": [
    "import matplotlib.pyplot as plt\n",
    "import seaborn as sns\n",
    "\n",
    "# Actual vs. Predicted Plot for Ridge Regression\n",
    "plt.figure(figsize=(10, 6))\n",
    "sns.scatterplot(x=y_test, y=y_test_pred)\n",
    "plt.plot([y_test.min(), y_test.max()], [y_test.min(), y_test.max()], color='red', lw=2)  # Line y=x\n",
    "plt.xlabel('Actual Values')\n",
    "plt.ylabel('Predicted Values')\n",
    "plt.title('Actual vs Predicted Values (Linear Regression)')\n",
    "plt.show()"
   ]
  },
  {
   "cell_type": "markdown",
   "id": "1b0b60d9-951a-4a78-a8be-f669533e2f51",
   "metadata": {},
   "source": [
    "#### Lasso Regression (L1 Regularization)"
   ]
  },
  {
   "cell_type": "code",
   "execution_count": 34,
   "id": "c7336843-6800-43d9-ac30-dec202f13135",
   "metadata": {},
   "outputs": [
    {
     "name": "stdout",
     "output_type": "stream",
     "text": [
      "Lasso Regression:\n",
      "Train MSE: 0.032340451969236246, Test MSE: 0.03313224137706264\n",
      "Train R²: 0.9606315722162032, Test R²: 0.9605974566081147\n",
      "\n"
     ]
    }
   ],
   "source": [
    "lasso = Lasso()\n",
    "lasso_params = {'alpha': [0.1, 1.0, 10.0, 100.0]}\n",
    "lasso_cv = GridSearchCV(lasso, lasso_params, cv=5)\n",
    "lasso_cv.fit(X_train_scaled, y_train)\n",
    "\n",
    "best_lasso = lasso_cv.best_estimator_\n",
    "\n",
    "y_train_pred = best_lasso.predict(X_train_scaled)\n",
    "y_test_pred = best_lasso.predict(X_test_scaled)\n",
    "\n",
    "print(\"Lasso Regression:\")\n",
    "print(f\"Train MSE: {mean_squared_error(y_train, y_train_pred)}, Test MSE: {mean_squared_error(y_test, y_test_pred)}\")\n",
    "print(f\"Train R²: {r2_score(y_train, y_train_pred)}, Test R²: {r2_score(y_test, y_test_pred)}\\n\")\n"
   ]
  },
  {
   "cell_type": "code",
   "execution_count": 35,
   "id": "0b030f3f-a39d-41af-a09d-e5e4df6aeb1f",
   "metadata": {},
   "outputs": [
    {
     "data": {
      "image/png": "[encoded data removed]",
      "text/plain": [
       "<Figure size 1000x600 with 1 Axes>"
      ]
     },
     "metadata": {},
     "output_type": "display_data"
    }
   ],
   "source": [
    "import matplotlib.pyplot as plt\n",
    "import seaborn as sns\n",
    "\n",
    "# Actual vs. Predicted Plot for Ridge Regression\n",
    "plt.figure(figsize=(10, 6))\n",
    "sns.scatterplot(x=y_test, y=y_test_pred)\n",
    "plt.plot([y_test.min(), y_test.max()], [y_test.min(), y_test.max()], color='red', lw=2)  # Line y=x\n",
    "plt.xlabel('Actual Values')\n",
    "plt.ylabel('Predicted Values')\n",
    "plt.title('Actual vs Predicted Values (Lasso Regression)')\n",
    "plt.show()"
   ]
  },
  {
   "cell_type": "markdown",
   "id": "cf7b514f-aef6-4ac7-80bb-ac9d8269ba52",
   "metadata": {},
   "source": [
    "#### Ridge Regression (L2 Regularization)"
   ]
  },
  {
   "cell_type": "code",
   "execution_count": 46,
   "id": "ab7b49c5-76b6-4a5f-baf8-e9636e3a51bc",
   "metadata": {},
   "outputs": [
    {
     "name": "stdout",
     "output_type": "stream",
     "text": [
      "Ridge Regression:\n",
      "Train MSE: 5.879262451544379e-10, Test MSE: 5.968904395708659e-10\n",
      "Train R²: 0.9999999992843102, Test R²: 0.9999999992901476\n",
      "\n"
     ]
    }
   ],
   "source": [
    "ridge = Ridge()\n",
    "ridge_params = {'alpha': [0.1, 1.0, 10.0, 100.0]}\n",
    "ridge_cv = GridSearchCV(ridge, ridge_params, cv=5)\n",
    "ridge_cv.fit(X_train_scaled, y_train)\n",
    "\n",
    "best_ridge = ridge_cv.best_estimator_\n",
    "\n",
    "y_train_pred = best_ridge.predict(X_train_scaled)\n",
    "y_test_pred = best_ridge.predict(X_test_scaled)\n",
    "\n",
    "print(\"Ridge Regression:\")\n",
    "print(f\"Train MSE: {mean_squared_error(y_train, y_train_pred)}, Test MSE: {mean_squared_error(y_test, y_test_pred)}\")\n",
    "print(f\"Train R²: {r2_score(y_train, y_train_pred)}, Test R²: {r2_score(y_test, y_test_pred)}\\n\")\n"
   ]
  },
  {
   "cell_type": "code",
   "execution_count": 37,
   "id": "22b14ec6-3d2a-47a7-b509-8051d416ade8",
   "metadata": {},
   "outputs": [
    {
     "data": {
      "image/png": "[encoded data removed]",
      "text/plain": [
       "<Figure size 1000x600 with 1 Axes>"
      ]
     },
     "metadata": {},
     "output_type": "display_data"
    }
   ],
   "source": [
    "import matplotlib.pyplot as plt\n",
    "import seaborn as sns\n",
    "\n",
    "# Actual vs. Predicted Plot for Ridge Regression\n",
    "plt.figure(figsize=(10, 6))\n",
    "sns.scatterplot(x=y_test, y=y_test_pred)\n",
    "plt.plot([y_test.min(), y_test.max()], [y_test.min(), y_test.max()], color='red', lw=2)  # Line y=x\n",
    "plt.xlabel('Actual Values')\n",
    "plt.ylabel('Predicted Values')\n",
    "plt.title('Actual vs Predicted Values (Ridge Regression)')\n",
    "plt.show()"
   ]
  },
  {
   "cell_type": "markdown",
   "id": "e4a12f5d-6f05-4266-abc7-f7dcdd2e305e",
   "metadata": {},
   "source": [
    "#### Elastic Net Regression (Combination of L1 and L2 Regularization)"
   ]
  },
  {
   "cell_type": "code",
   "execution_count": 38,
   "id": "5290db39-78a8-4cbb-8e30-c57fa9fb7a2a",
   "metadata": {},
   "outputs": [
    {
     "name": "stdout",
     "output_type": "stream",
     "text": [
      "Elastic Net Regression:\n",
      "Train MSE: 0.01230869292711883, Test MSE: 0.012496797141985408\n",
      "Train R²: 0.9850164775348483, Test R²: 0.9851381744433517\n",
      "\n"
     ]
    }
   ],
   "source": [
    "elastic_net = ElasticNet()\n",
    "elastic_net_params = {'alpha': [0.1, 1.0, 10.0, 100.0], 'l1_ratio': [0.2, 0.5, 0.8]}\n",
    "elastic_net_cv = GridSearchCV(elastic_net, elastic_net_params, cv=5)\n",
    "elastic_net_cv.fit(X_train_scaled, y_train)\n",
    "\n",
    "best_elastic_net = elastic_net_cv.best_estimator_\n",
    "\n",
    "y_train_pred = best_elastic_net.predict(X_train_scaled)\n",
    "y_test_pred = best_elastic_net.predict(X_test_scaled)\n",
    "\n",
    "print(\"Elastic Net Regression:\")\n",
    "print(f\"Train MSE: {mean_squared_error(y_train, y_train_pred)}, Test MSE: {mean_squared_error(y_test, y_test_pred)}\")\n",
    "print(f\"Train R²: {r2_score(y_train, y_train_pred)}, Test R²: {r2_score(y_test, y_test_pred)}\\n\")\n"
   ]
  },
  {
   "cell_type": "code",
   "execution_count": 39,
   "id": "91e43634-803d-4d96-b374-14353bed8e51",
   "metadata": {},
   "outputs": [
    {
     "data": {
      "image/png": "[encoded data removed]",
      "text/plain": [
       "<Figure size 1000x600 with 1 Axes>"
      ]
     },
     "metadata": {},
     "output_type": "display_data"
    }
   ],
   "source": [
    "import matplotlib.pyplot as plt\n",
    "import seaborn as sns\n",
    "\n",
    "# Actual vs. Predicted Plot for Ridge Regression\n",
    "plt.figure(figsize=(10, 6))\n",
    "sns.scatterplot(x=y_test, y=y_test_pred)\n",
    "plt.plot([y_test.min(), y_test.max()], [y_test.min(), y_test.max()], color='red', lw=2)  # Line y=x\n",
    "plt.xlabel('Actual Values')\n",
    "plt.ylabel('Predicted Values')\n",
    "plt.title('Actual vs Predicted Values (Elastic Net Regression)')\n",
    "plt.show()"
   ]
  },
  {
   "cell_type": "markdown",
   "id": "4f6401c9-1152-49d5-8f40-0c2f2272071f",
   "metadata": {},
   "source": [
    "#### Random Forests (with Hyperparameter Tuning)"
   ]
  },
  {
   "cell_type": "code",
   "execution_count": 40,
   "id": "9de83723-ab61-465b-a097-5b5289d30e16",
   "metadata": {},
   "outputs": [
    {
     "name": "stdout",
     "output_type": "stream",
     "text": [
      "Random Forest Regression:\n",
      "Train MSE: 1.8918796447341918e-06, Test MSE: 5.431394304432473e-06\n",
      "Train R²: 0.9999976969917662, Test R²: 0.9999935407101704\n",
      "\n"
     ]
    }
   ],
   "source": [
    "random_forest = RandomForestRegressor()\n",
    "random_forest_params = {'n_estimators': [100, 200], 'max_depth': [10, 20, None]}\n",
    "random_forest_cv = GridSearchCV(random_forest, random_forest_params, cv=5)\n",
    "random_forest_cv.fit(X_train_scaled, y_train)\n",
    "\n",
    "best_random_forest = random_forest_cv.best_estimator_\n",
    "\n",
    "y_train_pred = best_random_forest.predict(X_train_scaled)\n",
    "y_test_pred = best_random_forest.predict(X_test_scaled)\n",
    "\n",
    "print(\"Random Forest Regression:\")\n",
    "print(f\"Train MSE: {mean_squared_error(y_train, y_train_pred)}, Test MSE: {mean_squared_error(y_test, y_test_pred)}\")\n",
    "print(f\"Train R²: {r2_score(y_train, y_train_pred)}, Test R²: {r2_score(y_test, y_test_pred)}\\n\")\n"
   ]
  },
  {
   "cell_type": "code",
   "execution_count": 41,
   "id": "eb5b4ca2-0003-49c7-be33-9bd7d4da216e",
   "metadata": {},
   "outputs": [
    {
     "data": {
      "image/png": "[encoded data removed]",
      "text/plain": [
       "<Figure size 1000x600 with 1 Axes>"
      ]
     },
     "metadata": {},
     "output_type": "display_data"
    }
   ],
   "source": [
    "import matplotlib.pyplot as plt\n",
    "import seaborn as sns\n",
    "\n",
    "# Actual vs. Predicted Plot for Ridge Regression\n",
    "plt.figure(figsize=(10, 6))\n",
    "sns.scatterplot(x=y_test, y=y_test_pred)\n",
    "plt.plot([y_test.min(), y_test.max()], [y_test.min(), y_test.max()], color='red', lw=2)  # Line y=x\n",
    "plt.xlabel('Actual Values')\n",
    "plt.ylabel('Predicted Values')\n",
    "plt.title('Actual vs Predicted Values (Random Forest Regression)')\n",
    "plt.show()\n"
   ]
  },
  {
   "cell_type": "markdown",
   "id": "5a268c03-cd5c-4456-8b26-f7971ce27e9f",
   "metadata": {},
   "source": [
    "#### Gradient Boosting Machines"
   ]
  },
  {
   "cell_type": "code",
   "execution_count": 42,
   "id": "37bf2661-bccf-4cf0-a05c-8d5ec141baff",
   "metadata": {},
   "outputs": [
    {
     "name": "stdout",
     "output_type": "stream",
     "text": [
      "Gradient Boosting Regression:\n",
      "Train MSE: 0.0009157575055331404, Test MSE: 0.0010027790652108008\n",
      "Train R²: 0.9988852371865938, Test R²: 0.9988074442299337\n",
      "\n"
     ]
    }
   ],
   "source": [
    "gradient_boosting = GradientBoostingRegressor()\n",
    "gradient_boosting_params = {'n_estimators': [100, 200], 'learning_rate': [0.01, 0.1, 0.2]}\n",
    "gradient_boosting_cv = GridSearchCV(gradient_boosting, gradient_boosting_params, cv=5)\n",
    "gradient_boosting_cv.fit(X_train_scaled, y_train)\n",
    "\n",
    "best_gradient_boosting = gradient_boosting_cv.best_estimator_\n",
    "\n",
    "y_train_pred = best_gradient_boosting.predict(X_train_scaled)\n",
    "y_test_pred = best_gradient_boosting.predict(X_test_scaled)\n",
    "\n",
    "print(\"Gradient Boosting Regression:\")\n",
    "print(f\"Train MSE: {mean_squared_error(y_train, y_train_pred)}, Test MSE: {mean_squared_error(y_test, y_test_pred)}\")\n",
    "print(f\"Train R²: {r2_score(y_train, y_train_pred)}, Test R²: {r2_score(y_test, y_test_pred)}\\n\")\n"
   ]
  },
  {
   "cell_type": "code",
   "execution_count": 43,
   "id": "7ca7963d-d84f-4759-bd0a-1154206e26c2",
   "metadata": {},
   "outputs": [
    {
     "data": {
      "image/png": "[encoded data removed]",
      "text/plain": [
       "<Figure size 1000x600 with 1 Axes>"
      ]
     },
     "metadata": {},
     "output_type": "display_data"
    }
   ],
   "source": [
    "import matplotlib.pyplot as plt\n",
    "import seaborn as sns\n",
    "\n",
    "# Actual vs. Predicted Plot for Ridge Regression\n",
    "plt.figure(figsize=(10, 6))\n",
    "sns.scatterplot(x=y_test, y=y_test_pred)\n",
    "plt.plot([y_test.min(), y_test.max()], [y_test.min(), y_test.max()], color='red', lw=2)  # Line y=x\n",
    "plt.xlabel('Actual Values')\n",
    "plt.ylabel('Predicted Values')\n",
    "plt.title('Actual vs Predicted Values (Gradient Boosting Regression)')\n",
    "plt.show()\n"
   ]
  },
  {
   "cell_type": "markdown",
   "id": "a221ea34-5838-4c8f-87cd-da364720291c",
   "metadata": {},
   "source": [
    "## 14.Result"
   ]
  },
  {
   "cell_type": "raw",
   "id": "54a5de08-9cbe-432c-9d30-6b88037cff2a",
   "metadata": {},
   "source": [
    "The performance of various regression models was evaluated to predict student well-being and mental health metrics. The following results were obtained:\n",
    "\n",
    "1.Linear Regression achieved extremely low error values, indicating a perfect fit on the training data but suggesting possible overfitting.\n",
    "\n",
    "2.Ridge Regression performed very well, showing low MSE and high R² values for both training and testing data. The regularization effect helps mitigate overfitting, making it a strong candidate.\n",
    "\n",
    "3.Lasso Regression provided acceptable performance but had higher error rates than Ridge, indicating potential underfitting and sensitivity to feature selection.\n",
    "\n",
    "4.Elastic Net offered a balance between Ridge and Lasso but still had higher error rates than Ridge.\n",
    "\n",
    "5.Random Forest showed good performance with high R² values but had a higher MSE compared to Ridge, suggesting it may be less precise.\n",
    "\n",
    "6.Gradient Boosting had the highest MSE among the models evaluated, indicating it may not generalize as well as the other models. \n",
    "\n",
    "So Ridge Regression as the best-performing model for a balance of performance and regularization, especially to avoid potential overfitting seen in Linear Regression."
   ]
  },
  {
   "cell_type": "markdown",
   "id": "8ff62852-002c-4d83-98c7-b7fcffa36b68",
   "metadata": {},
   "source": [
    "## 15.Model Deployment\n"
   ]
  },
  {
   "cell_type": "markdown",
   "id": "775b4461-64d0-4f03-a149-9506ea02d611",
   "metadata": {},
   "source": [
    "#### Save the Model and Scaler"
   ]
  },
  {
   "cell_type": "code",
   "execution_count": 49,
   "id": "ba842669-0e0c-4d08-9f30-efb7553c2d68",
   "metadata": {},
   "outputs": [
    {
     "data": {
      "text/plain": [
       "['scaler.pkl']"
      ]
     },
     "execution_count": 49,
     "metadata": {},
     "output_type": "execute_result"
    }
   ],
   "source": [
    "best_ridge = ridge_cv.best_estimator_\n",
    "import joblib\n",
    "# Save the trained model\n",
    "joblib.dump(best_ridge, 'ridge_model.pkl')\n",
    "# Save the scaler\n",
    "joblib.dump(scaler, 'scaler.pkl')\n"
   ]
  },
  {
   "cell_type": "code",
   "execution_count": null,
   "id": "cca0c0a0-a651-4c79-a8d8-a2a6a88dc352",
   "metadata": {},
   "outputs": [],
   "source": []
  },
  {
   "cell_type": "markdown",
   "id": "4dd94d26-7e72-4d9a-bab2-0669429575a0",
   "metadata": {},
   "source": [
    "## 16.Limitation"
   ]
  },
  {
   "cell_type": "raw",
   "id": "d149fdc6-bc7c-428b-b177-93e7c9a8a3d1",
   "metadata": {},
   "source": [
    "\n"
   ]
  },
  {
   "cell_type": "markdown",
   "id": "a0f9b816-05cf-4edb-9fb7-5238a1dd59ab",
   "metadata": {},
   "source": [
    "## 17.Conclusion\n"
   ]
  },
  {
   "cell_type": "markdown",
   "id": "5363476a-8637-4bfd-8862-a11905e7a3a3",
   "metadata": {},
   "source": [
    "#### Summary of Findings:"
   ]
  },
  {
   "cell_type": "raw",
   "id": "c4738026-f0ea-4cb3-8a20-821ee2c2307f",
   "metadata": {},
   "source": [
    "The evaluation of various regression models to predict student well-being and mental health metrics revealed important insights. Among the models tested, Ridge Regression demonstrated the best balance between performance and generalization, with low Mean Squared Error (MSE) and high R² values for both training and testing datasets. This indicates that Ridge Regression effectively captures the underlying relationships between features such as stress levels, anxiety scores, and other influencing factors on student mental health. While Linear Regression showed extremely low error values, it also suggested potential overfitting, making Ridge Regression a more robust choice for this application. Elastic Net, Random Forest, and Gradient Boosting also performed reasonably well, but with higher error rates compared to Ridge Regression."
   ]
  },
  {
   "cell_type": "code",
   "execution_count": null,
   "id": "4e05e00a-dda8-43ff-8c66-a59482423e13",
   "metadata": {},
   "outputs": [],
   "source": []
  },
  {
   "cell_type": "markdown",
   "id": "abce3936-c930-450a-b706-abf341885b90",
   "metadata": {},
   "source": [
    "## 18.Future Work\n"
   ]
  },
  {
   "cell_type": "raw",
   "id": "1a2d5b28-847d-458e-97f5-1621d1fb662b",
   "metadata": {},
   "source": [
    "Future Work:\n",
    "1. Collecting more data to improve model accuracy.\n",
    "\n"
   ]
  }
 ],
 "metadata": {
  "kernelspec": {
   "display_name": "Python 3 (ipykernel)",
   "language": "python",
   "name": "python3"
  },
  "language_info": {
   "codemirror_mode": {
    "name": "ipython",
    "version": 3
   },
   "file_extension": ".py",
   "mimetype": "text/x-python",
   "name": "python",
   "nbconvert_exporter": "python",
   "pygments_lexer": "ipython3",
   "version": "3.11.7"
  }
 },
 "nbformat": 4,
 "nbformat_minor": 5
}
